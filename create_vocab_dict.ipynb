{
  "nbformat": 4,
  "nbformat_minor": 0,
  "metadata": {
    "colab": {
      "name": "create_vocab.ipynb",
      "version": "0.3.2",
      "provenance": [],
      "collapsed_sections": [],
      "include_colab_link": true
    },
    "kernelspec": {
      "name": "python3",
      "display_name": "Python 3"
    }
  },
  "cells": [
    {
      "cell_type": "markdown",
      "metadata": {
        "id": "view-in-github",
        "colab_type": "text"
      },
      "source": [
        "<a href=\"https://colab.research.google.com/github/sagorbrur/Text_Preprocessing/blob/master/create_vocab_dict.ipynb\" target=\"_parent\"><img src=\"https://colab.research.google.com/assets/colab-badge.svg\" alt=\"Open In Colab\"/></a>"
      ]
    },
    {
      "cell_type": "code",
      "metadata": {
        "id": "NMK8r42vc1Gg",
        "colab_type": "code",
        "colab": {}
      },
      "source": [
        "text = 'we all working together for the betterment of this beautiful world.'"
      ],
      "execution_count": 0,
      "outputs": []
    },
    {
      "cell_type": "code",
      "metadata": {
        "id": "i-eb7oondClv",
        "colab_type": "code",
        "colab": {
          "base_uri": "https://localhost:8080/",
          "height": 71
        },
        "outputId": "d2781551-1b35-4d01-8aa3-81306625eade"
      },
      "source": [
        "#creating vocabulary dictionary\n",
        "\n",
        "vocab = {}\n",
        "\n",
        "for word in text.split():\n",
        "  if word not in vocab.keys():\n",
        "    vocab[word] = 0\n",
        "  vocab[word]+=1\n",
        "  \n",
        "  \n",
        "print('Vocab Length: ', len(vocab))  \n",
        "print(vocab)"
      ],
      "execution_count": 10,
      "outputs": [
        {
          "output_type": "stream",
          "text": [
            "Vocab Length:  11\n",
            "{'we': 1, 'all': 1, 'working': 1, 'together': 1, 'for': 1, 'the': 1, 'betterment': 1, 'of': 1, 'this': 1, 'beautiful': 1, 'world.': 1}\n"
          ],
          "name": "stdout"
        }
      ]
    },
    {
      "cell_type": "code",
      "metadata": {
        "id": "48mGIkuxdU7E",
        "colab_type": "code",
        "colab": {
          "base_uri": "https://localhost:8080/",
          "height": 51
        },
        "outputId": "b024ac83-b6d6-4e1b-93e8-cfc53dea5f3b"
      },
      "source": [
        "def word_to_id(word, unk_id='UNK'):\n",
        "  if word in vocab:\n",
        "    return vocab[word]\n",
        "  else:\n",
        "    return unk_id\n",
        "  \n",
        "\n",
        "print(word_to_id('working'))\n",
        "print(word_to_id('good'))\n",
        "  "
      ],
      "execution_count": 6,
      "outputs": [
        {
          "output_type": "stream",
          "text": [
            "1\n",
            "UNK\n"
          ],
          "name": "stdout"
        }
      ]
    },
    {
      "cell_type": "code",
      "metadata": {
        "id": "h5rsHCY2d_NK",
        "colab_type": "code",
        "colab": {
          "base_uri": "https://localhost:8080/",
          "height": 34
        },
        "outputId": "61fe013b-9169-4a04-e6b9-d36109139532"
      },
      "source": [
        "idx2word = {index:val for index, val in enumerate(vocab)}\n",
        "idx2word[1]\n",
        "# def id_to_word(id, unk_word='NULL'):\n",
        "#   for index, val in enumerate(vocab):\n",
        "#     if id == index:\n",
        "#       return val\n",
        "#     else:\n",
        "#       return unk_word\n",
        "    \n",
        "# print(id_to_word(1))\n",
        "# print(id_to_word(5))\n",
        "  "
      ],
      "execution_count": 15,
      "outputs": [
        {
          "output_type": "execute_result",
          "data": {
            "text/plain": [
              "'all'"
            ]
          },
          "metadata": {
            "tags": []
          },
          "execution_count": 15
        }
      ]
    },
    {
      "cell_type": "code",
      "metadata": {
        "id": "2ZQps3AXgETe",
        "colab_type": "code",
        "colab": {}
      },
      "source": [
        ""
      ],
      "execution_count": 0,
      "outputs": []
    }
  ]
}